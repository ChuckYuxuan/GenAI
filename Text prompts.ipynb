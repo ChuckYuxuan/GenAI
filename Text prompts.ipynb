{
 "cells": [
  {
   "cell_type": "code",
   "execution_count": 153,
   "id": "4222aea8",
   "metadata": {},
   "outputs": [],
   "source": [
    "import random\n",
    "\n",
    "# Extended elements for description\n",
    "colors = [\"red\", \"blue\", \"silver\", \"black\", \"white\", \"green\", \"yellow\", \"orange\"]\n",
    "shapes = [\"sedan\", \"SUV\", \"hatchback\", \"truck\", \"coupe\", \"convertible\", \"van\"]\n",
    "relative_speeds = [\"moving faster\", \"moving slower\", \"moving at the same speed\", \"rapidly approaching\", \"gradually slowing down\"]\n",
    "relative_positions = [\"left\", \"right\", \"front\", \"behind\", \"diagonal front-left\", \"diagonal front-right\"]\n",
    "environmental_conditions = [\"rainy\", \"sunny\", \"foggy\"]\n",
    "city_country = [\"on a country road\", \"in a city\"]"
   ]
  },
  {
   "cell_type": "code",
   "execution_count": 248,
   "id": "9566b1fa",
   "metadata": {},
   "outputs": [],
   "source": [
    "Prompts = []\n",
    "scene = 641\n",
    "envir = environmental_conditions[1]\n",
    "city = city_country[0]\n",
    "description = (f\"Under {envir} conditions, {city}, \"\n",
    "    f\"a grey {shapes[1]},  {relative_speeds[0]} on the {relative_positions[4]};\"\n",
    "    f\"a {colors[0]} {shapes[0]},  {relative_speeds[2]} on the {relative_positions[2]};\"\n",
    "    f\"a {colors[2]} {shapes[0]},  {relative_speeds[2]} on the {relative_positions[5]};\"\n",
    "    f\"a {colors[2]} {shapes[0]},  {relative_speeds[0]} on the {relative_positions[0]};\"\n",
    "    f\"a {'purple'} {shapes[0]},  {relative_speeds[2]} on the {relative_positions[5]}.\"\n",
    ")\n",
    "\n",
    "Prompts.append({scene: description})"
   ]
  },
  {
   "cell_type": "code",
   "execution_count": null,
   "id": "083d16af-40c4-4a68-a330-1196d0f994e3",
   "metadata": {},
   "outputs": [],
   "source": []
  },
  {
   "cell_type": "code",
   "execution_count": 249,
   "id": "741127bc-42fb-4061-b309-a3730492c1a4",
   "metadata": {},
   "outputs": [],
   "source": [
    "scene = 659\n",
    "envir = environmental_conditions[1]\n",
    "city = city_country[0]\n",
    "description = (f\"Under {envir} conditions,{city}, \"\n",
    "    f\"a {colors[3]} {shapes[0]}, {relative_speeds[1]} on the {relative_positions[5]}; \"\n",
    "    f\"a {'purple'} {shapes[1]}, {relative_speeds[4]} on the {relative_positions[2]} and moved to the right; \"\n",
    "    f\"a {colors[6]} {shapes[0]}, {relative_speeds[0]} on the {relative_positions[5]}.\"\n",
    ")\n",
    "Prompts.append({scene: description})"
   ]
  },
  {
   "cell_type": "code",
   "execution_count": 250,
   "id": "c239ae69-679a-486b-8a41-a24e37819a3e",
   "metadata": {},
   "outputs": [],
   "source": [
    "scene = 693\n",
    "envir = environmental_conditions[1]\n",
    "city = city_country[0]\n",
    "description = (f\"Under {envir} conditions, {city}, \"\n",
    "    f\"a {'purple'} {shapes[1]}, {relative_speeds[1]} on the {relative_positions[1]};\"\n",
    "    f\"a {'purple'} {shapes[1]}, {relative_speeds[2]} on the {relative_positions[2]};\"\n",
    "    f\"a {colors[6]} {shapes[4]}, {relative_speeds[2]} on the {relative_positions[5]}.\"\n",
    ")\n",
    "Prompts.append({scene: description})"
   ]
  },
  {
   "cell_type": "code",
   "execution_count": 251,
   "id": "8bdc24df-9855-4104-b33e-b66aa1678c20",
   "metadata": {},
   "outputs": [],
   "source": [
    "scene = 47\n",
    "envir = environmental_conditions[1]\n",
    "city = city_country[1]\n",
    "description = (f\"Under {envir} conditions, {city}, \"\n",
    "    f\"a {colors[3]} {shapes[4]}, {relative_speeds[1]} on the {relative_positions[2]} and then {relative_speeds[0]} on the {relative_positions[4]}.\"\n",
    ")\n",
    "Prompts.append({scene: description})"
   ]
  },
  {
   "cell_type": "code",
   "execution_count": 252,
   "id": "97c7ea69-4f89-4d97-a9b7-f49523b30001",
   "metadata": {},
   "outputs": [],
   "source": [
    "scene = 56\n",
    "envir = environmental_conditions[1]\n",
    "city = city_country[1]\n",
    "description = (f\"Under {envir} conditions, {city}, \"\n",
    "    f\"a {'green and white'} {shapes[0]}, {relative_speeds[1]} on the {relative_positions[1]};\"\n",
    "    f\"a {colors[0]} {shapes[0]}, {relative_speeds[1]} on the {relative_positions[2]};\"\n",
    "    f\"a {'purple'} {shapes[1]}, {relative_speeds[1]} on the {relative_positions[5]}.\"\n",
    ")\n",
    "Prompts.append({scene: description})"
   ]
  },
  {
   "cell_type": "code",
   "execution_count": 253,
   "id": "5347b65d-02f7-4cf6-9164-78777c133d44",
   "metadata": {},
   "outputs": [],
   "source": [
    "scene = 67\n",
    "envir = environmental_conditions[1]\n",
    "city = city_country[1]\n",
    "description = (f\"Under {envir} conditions, {city}, \"\n",
    "    f\"a {'grey'} {shapes[0]}, stopped first and then {relative_speeds[2]} on the {relative_positions[2]};\"\n",
    "    f\"a {colors[0]} {shapes[0]}, stopped first and then {relative_speeds[1]} on the {relative_positions[0]};\"\n",
    "    f\"a {colors[6]} {shapes[0]}, stopped first and then {relative_speeds[1]} on the {relative_positions[4]}.\"\n",
    ")\n",
    "Prompts.append({scene: description})"
   ]
  },
  {
   "cell_type": "code",
   "execution_count": 254,
   "id": "041fb539-1b6e-424d-b20f-f1ff526ba4ac",
   "metadata": {},
   "outputs": [],
   "source": [
    "scene = 207\n",
    "envir = environmental_conditions[1]\n",
    "city = city_country[0]\n",
    "description = (f\"Under {envir} conditions, {city}, \"\n",
    "    f\"a lot of cars are moving on the right; a green suv is moving at the same speed on the front.\"\n",
    ")\n",
    "Prompts.append({scene: description})"
   ]
  },
  {
   "cell_type": "code",
   "execution_count": 255,
   "id": "26a5fdd3-ce52-4824-afdc-888ad3725d6b",
   "metadata": {},
   "outputs": [],
   "source": [
    "scene = 216\n",
    "envir = environmental_conditions[1]\n",
    "city = city_country[0]\n",
    "description = (f\"Under {envir} conditions, {city}, \"\n",
    "    f\"cars in the front stopped; cars kept stopping on the left; many cars are moving at the same speed on the front and on the left.\"\n",
    ")\n",
    "Prompts.append({scene: description})"
   ]
  },
  {
   "cell_type": "code",
   "execution_count": 256,
   "id": "8d2cbe91-f5c9-4522-b459-ccca90f3c6d8",
   "metadata": {},
   "outputs": [],
   "source": [
    "scene = 225\n",
    "envir = environmental_conditions[1]\n",
    "city = city_country[0]\n",
    "description = (f\"Under {envir} conditions, {city}, \"\n",
    "    f\"a black suv coming from the right fast and stopped in the front and then moving at the same speed; many cars in the front and on the left are moving at the same speed\"\n",
    ")\n",
    "Prompts.append({scene: description})"
   ]
  },
  {
   "cell_type": "code",
   "execution_count": 257,
   "id": "66f3642f-781f-4fc0-99ce-61b34b5ae41a",
   "metadata": {},
   "outputs": [],
   "source": [
    "scene = 234\n",
    "envir = environmental_conditions[1]\n",
    "city = city_country[0]\n",
    "description = (f\"Under {envir} conditions, {city}, \"\n",
    "    f\"a{'purple'} {shapes[0]}, {relative_speeds[2]} on the {relative_positions[4]}; then we came across a traffic light and all cars in the front stopped; after that, all cars moving at the same speed from all directions.\"\n",
    ")\n",
    "Prompts.append({scene: description})"
   ]
  },
  {
   "cell_type": "code",
   "execution_count": 258,
   "id": "64088806-ca01-4f21-803d-dc4c891fa562",
   "metadata": {},
   "outputs": [],
   "source": [
    "scene = 243\n",
    "envir = environmental_conditions[1]\n",
    "city = city_country[0]\n",
    "description = (f\"Under {envir} conditions, {city}, \"\n",
    "    f\"many different cars moving slower and then moving faster on the left; \"\n",
    "    f\"a {colors[6]} {shapes[0]}, {relative_speeds[2]} on the {relative_positions[2]};\"\n",
    "    f\" then all cars stopped.\"\n",
    ")\n",
    "Prompts.append({scene: description})"
   ]
  },
  {
   "cell_type": "code",
   "execution_count": 259,
   "id": "770d357b-e2a0-40eb-a9aa-ee3a16557c63",
   "metadata": {},
   "outputs": [],
   "source": [
    "scene = 440\n",
    "envir = environmental_conditions[1]\n",
    "city = city_country[0]\n",
    "description = (f\"Under {envir} conditions, {city}, \"\n",
    "    f\"a {'purple'} {shapes[1]}, {relative_speeds[2]} on the {relative_positions[4]};\"\n",
    "    f\"a {colors[3]} {shapes[0]}, {relative_speeds[2]} on the {relative_positions[2]};\"\n",
    "    f\"a {'grey'} {shapes[1]}, {relative_speeds[2]} on the {relative_positions[5]};\"\n",
    "    f\"then all cars stopped at the traffic light.\"\n",
    ")\n",
    "Prompts.append({scene: description})"
   ]
  },
  {
   "cell_type": "code",
   "execution_count": 260,
   "id": "06876c11-3cce-4420-b5e6-ee2d982f9604",
   "metadata": {},
   "outputs": [],
   "source": [
    "scene = 449\n",
    "envir = environmental_conditions[1]\n",
    "city = city_country[0]\n",
    "description = (f\"Under {envir} conditions, {city}, \"\n",
    "    f\"a {colors[0]} {shapes[0]}, stopped on the {relative_positions[4]};\"\n",
    "    f\"a {'green and white'} {shapes[0]}, stopped on the {relative_positions[4]};\"\n",
    "    f\"a {'gold'} {shapes[0]}, {relative_speeds[1]} on the {relative_positions[4]};\"\n",
    "    f\"a {'gold'} {shapes[0]}, {relative_speeds[2]} on the {relative_positions[2]};\"\n",
    ")\n",
    "Prompts.append({scene: description})"
   ]
  },
  {
   "cell_type": "code",
   "execution_count": 261,
   "id": "5400b9e1-600f-4a0a-a543-8393dc82de32",
   "metadata": {},
   "outputs": [],
   "source": [
    "scene = 702\n",
    "envir = environmental_conditions[1]\n",
    "city = city_country[0]\n",
    "description = (f\"Under {envir} conditions, {city}, \"\n",
    "    f\"a {'purple'} {shapes[1]}, {relative_speeds[1]} on the {relative_positions[0]};\"\n",
    "    f\"a {'gold'} {shapes[0]}, {relative_speeds[2]} on the {relative_positions[2]};\"\n",
    "    f\"a {'gold'} {shapes[0]}, {relative_speeds[2]} on the {relative_positions[4]}.\"\n",
    ")\n",
    "Prompts.append({scene: description})"
   ]
  },
  {
   "cell_type": "code",
   "execution_count": 262,
   "id": "7a24cd77-a8ce-4daa-bdff-324e37dc3619",
   "metadata": {},
   "outputs": [],
   "source": [
    "scene = 718\n",
    "envir = environmental_conditions[1]\n",
    "city = city_country[0]\n",
    "description = (f\"Under {envir} conditions, {city}, \"\n",
    "    f\"many cars {relative_speeds[3]} on the {relative_positions[4]}.\"\n",
    ")\n",
    "Prompts.append({scene: description})"
   ]
  },
  {
   "cell_type": "code",
   "execution_count": 263,
   "id": "6051248b-7192-4ead-8a55-51f83a75d39c",
   "metadata": {},
   "outputs": [],
   "source": [
    "scene = 727\n",
    "envir = environmental_conditions[1]\n",
    "city = city_country[0]\n",
    "description = (f\"Under {envir} conditions, {city}, \"\n",
    "    f\"two cars {relative_speeds[3]} on the {relative_positions[4]};\"\n",
    "    f\"a {'gold'} {shapes[0]}, {relative_speeds[2]} on the {relative_positions[2]}.\"\n",
    ")\n",
    "Prompts.append({scene: description})"
   ]
  },
  {
   "cell_type": "code",
   "execution_count": 264,
   "id": "d2f087a6-913b-4651-8ed4-dcf93a2da3a7",
   "metadata": {},
   "outputs": [],
   "source": [
    "scene = 1188\n",
    "envir = environmental_conditions[1]\n",
    "city = city_country[0]\n",
    "description = (f\"Under {envir} conditions, {city}, \"\n",
    "    f\"a {'gold'} {shapes[0]},  {relative_speeds[1]} on the {relative_positions[5]};\"\n",
    "    f\"a {colors[0]} {shapes[0]},  {relative_speeds[1]} on the {relative_positions[2]};\"\n",
    "    f\"a {'purple'} {shapes[1]},  {relative_speeds[1]} on the {relative_positions[4]};\"\n",
    "    f\"a {'purple'} {shapes[0]},  {relative_speeds[2]} on the {relative_positions[5]}.\"\n",
    ")\n",
    "\n",
    "Prompts.append({scene: description})"
   ]
  },
  {
   "cell_type": "code",
   "execution_count": 265,
   "id": "8a0623c8-dc14-4f6a-a121-6ab087aa9993",
   "metadata": {},
   "outputs": [],
   "source": [
    "scene = 1197\n",
    "envir = environmental_conditions[1]\n",
    "city = city_country[0]\n",
    "description = (f\"Under {envir} conditions, {city}, \"\n",
    "    f\"a {'grey'} {shapes[0]},  {relative_speeds[1]} on the {relative_positions[4]};\"\n",
    "    f\"a {colors[3]} {shapes[1]},  {relative_speeds[1]} on the {relative_positions[5]};\"\n",
    "    f\"many different cars {relative_speeds[1]} on the {relative_positions[2]}, {relative_positions[4]} and {relative_positions[5]}.\"\n",
    ")\n",
    "\n",
    "Prompts.append({scene: description})"
   ]
  },
  {
   "cell_type": "code",
   "execution_count": 266,
   "id": "64715b6e-b6c2-44ce-892a-f0c6ae25916f",
   "metadata": {},
   "outputs": [],
   "source": [
    "scene = 1206\n",
    "envir = environmental_conditions[1]\n",
    "city = city_country[0]\n",
    "description = (f\"Under {envir} conditions, {city}, \"\n",
    "    f\"a {'black'} {shapes[0]},  {relative_speeds[1]} on the {relative_positions[2]}, we moved to the left and overtook it;\"\n",
    "    f\"a {colors[6]} {shapes[0]},  {relative_speeds[1]} on the {relative_positions[2]},we moved to the right and overtook it;\"\n",
    "    f\"many different cars {relative_speeds[2]} on the {relative_positions[2]}, {relative_positions[4]} and {relative_positions[5]}.\"\n",
    ")\n",
    "\n",
    "Prompts.append({scene: description})"
   ]
  },
  {
   "cell_type": "code",
   "execution_count": 267,
   "id": "087747fd-a88b-4f79-bcee-1e95a436236c",
   "metadata": {},
   "outputs": [],
   "source": [
    "scene = 1215\n",
    "envir = environmental_conditions[1]\n",
    "city = city_country[0]\n",
    "description = (f\"Under {envir} conditions, {city}, \"\n",
    "    f\"a {'black'} {shapes[1]}, {relative_speeds[1]} on the {relative_positions[2]} and then moving slower on the {relative_positions[1]};\"\n",
    "    f\"a {colors[0]} {shapes[0]}, {relative_speeds[1]} on the {relative_positions[4]};\"\n",
    "    f\"a {'pink'} {shapes[0]},  {relative_speeds[2]} on the {relative_positions[2]}.\"\n",
    ")\n",
    "\n",
    "Prompts.append({scene: description})"
   ]
  },
  {
   "cell_type": "code",
   "execution_count": 268,
   "id": "96fa027a-fa9d-422c-a9ed-6e865352fcc3",
   "metadata": {},
   "outputs": [],
   "source": [
    "scene = 1313\n",
    "envir = environmental_conditions[1]\n",
    "city = city_country[0]\n",
    "description = (f\"Under {envir} conditions, {city}, \"\n",
    "    f\"a {'black'} {shapes[0]}, {relative_speeds[1]} on the {relative_positions[2]} and then {relative_speeds[0]} on the {relative_positions[4]};\"\n",
    "    f\"a {colors[0]} {shapes[1]}, {relative_speeds[1]} on the {relative_positions[5]}.\"\n",
    ")\n",
    "\n",
    "Prompts.append({scene: description})"
   ]
  },
  {
   "cell_type": "code",
   "execution_count": 269,
   "id": "dee8b5a4-4eb6-4458-b1d2-f5fedf03a581",
   "metadata": {},
   "outputs": [],
   "source": [
    "scene = 1322\n",
    "envir = environmental_conditions[1]\n",
    "city = city_country[0]\n",
    "description = (f\"Under {envir} conditions, {city}, \"\n",
    "    f\"a {'gold'} {shapes[0]}, {relative_speeds[1]} on the {relative_positions[0]} and then {relative_speeds[2]} on the {relative_positions[4]};\"\n",
    "    f\"a {'gold'} {shapes[1]}, {relative_speeds[2]} on the {relative_positions[2]};\"\n",
    "    f\"a {'gold'} {shapes[0]}, {relative_speeds[0]} on the {relative_positions[4]}.\"\n",
    ")\n",
    "\n",
    "Prompts.append({scene: description})"
   ]
  },
  {
   "cell_type": "code",
   "execution_count": 270,
   "id": "fcf21f0e-d62b-4081-bea8-4775b0b04eb0",
   "metadata": {},
   "outputs": [],
   "source": [
    "scene = 1331\n",
    "envir = environmental_conditions[1]\n",
    "city = city_country[0]\n",
    "description = (f\"Under {envir} conditions, {city}, \"\n",
    "    f\"a {colors[0]} {shapes[0]}, {relative_speeds[0]} on the {relative_positions[4]} then stopped at traffic light;\"\n",
    "    f\"a {'black'} {shapes[0]}, stopped on the {relative_positions[2]} at the traffic light and we were very close to it.\"\n",
    ")\n",
    "\n",
    "Prompts.append({scene: description})"
   ]
  },
  {
   "cell_type": "code",
   "execution_count": 271,
   "id": "0c697eef-83f6-4fec-9ba6-abc24620ca31",
   "metadata": {},
   "outputs": [],
   "source": [
    "scene = 4805\n",
    "envir = environmental_conditions[1]\n",
    "city = city_country[0]\n",
    "description = (f\"Under {envir} conditions, {city}, \"\n",
    "    f\"a {'gold'} {shapes[0]}, {relative_speeds[1]} on the {relative_positions[5]} and then {relative_speeds[1]} on the {relative_positions[1]};\"\n",
    "    f\"a {colors[0]} {shapes[0]}, {relative_speeds[1]} on the {relative_positions[5]} and then {relative_speeds[1]} on the {relative_positions[1]};\"\n",
    "    f\"a {'silver'} {shapes[0]}, {relative_speeds[1]} on the {relative_positions[2]};\"\n",
    "    f\"a {'purple'} {shapes[1]},  {relative_speeds[0]} on the {relative_positions[4]}.\"\n",
    ")\n",
    "\n",
    "Prompts.append({scene: description})"
   ]
  },
  {
   "cell_type": "code",
   "execution_count": 272,
   "id": "354c1f4e-6115-411f-ab11-69b58a1ec0dd",
   "metadata": {},
   "outputs": [],
   "source": [
    "scene = 6273\n",
    "envir = environmental_conditions[1]\n",
    "city = city_country[1]\n",
    "description = (f\"Under {envir} conditions, {city}, \"\n",
    "    f\"many cars are making right and left turns on the {relative_positions[4]};\"\n",
    "    f\"no cars in the front.\"\n",
    ")\n",
    "Prompts.append({scene: description})"
   ]
  },
  {
   "cell_type": "code",
   "execution_count": 273,
   "id": "d51b7633-233e-413c-88df-abb52078a116",
   "metadata": {},
   "outputs": [],
   "source": [
    "scene = 6282\n",
    "envir = environmental_conditions[1]\n",
    "city = city_country[1]\n",
    "description = (f\"Under {envir} conditions, {city}, \"\n",
    "    f\"many cars {relative_speeds[3]} on the {relative_positions[4]};\"\n",
    "    f\"a {colors[0]} {shapes[0]}, {relative_speeds[3]} on the {relative_positions[1]};\"\n",
    "    f\"a {'purple'} {shapes[0]},  {relative_speeds[2]} on the {relative_positions[4]} and then {relative_speeds[4]}.\"\n",
    ")\n",
    "Prompts.append({scene: description})"
   ]
  },
  {
   "cell_type": "code",
   "execution_count": 275,
   "id": "c27ccc8a-a7bd-48b3-b585-967f649cd095",
   "metadata": {},
   "outputs": [],
   "source": [
    "scene = 6291\n",
    "envir = environmental_conditions[1]\n",
    "city = city_country[1]\n",
    "description = (f\"Under {envir} conditions, {city}, \"\n",
    "    f\"{'silver'} {shapes[0]} {relative_speeds[3]} on the {relative_positions[4]};\"\n",
    "    f\"a {'black'} {shapes[1]}, {relative_speeds[3]} on the {relative_positions[1]} and then stopped in the front.\"\n",
    ")\n",
    "Prompts.append({scene: description})"
   ]
  },
  {
   "cell_type": "code",
   "execution_count": 277,
   "id": "475d02f0-d0d7-4899-ac51-43dd1107432a",
   "metadata": {},
   "outputs": [],
   "source": [
    "scene = 6300\n",
    "envir = environmental_conditions[1]\n",
    "city = city_country[1]\n",
    "description = (f\"Under {envir} conditions, {city}, \"\n",
    "    f\"a {'silver'} {shapes[0]} {relative_speeds[3]} on the {relative_positions[4]};\"\n",
    "    f\"we stopped at the crossing;\"\n",
    "    f\"a {'red'} {shapes[0]}, moving from left to right;\"\n",
    "    f\"a {'purple'} {shapes[1]}, moving from left to right;\"\n",
    "    f\"we then turn right and a {'black'} {shapes[0]} {relative_speeds[3]} on the front.\"\n",
    ")\n",
    "Prompts.append({scene: description})"
   ]
  },
  {
   "cell_type": "code",
   "execution_count": 279,
   "id": "4e107fa7-c6e1-4d1f-b6df-2913c8d76805",
   "metadata": {},
   "outputs": [],
   "source": [
    "scene = 6309\n",
    "envir = environmental_conditions[1]\n",
    "city = city_country[1]\n",
    "description = (f\"Under {envir} conditions, {city}, \"\n",
    "    f\"many cars {relative_speeds[3]} on the {relative_positions[4]};\"\n",
    "    f\"a {'silver'} {shapes[1]} {relative_speeds[2]} on the {relative_positions[2]}.\"\n",
    ")\n",
    "Prompts.append({scene: description})"
   ]
  },
  {
   "cell_type": "code",
   "execution_count": 282,
   "id": "a4205d3a-33d3-474a-83f7-927114b00a6a",
   "metadata": {},
   "outputs": [
    {
     "data": {
      "text/plain": [
       "[{641: 'Under sunny conditions, on a country road, a grey SUV,  moving faster on the diagonal front-left;a red sedan,  moving at the same speed on the front;a silver sedan,  moving at the same speed on the diagonal front-right;a silver sedan,  moving faster on the left;a purple sedan,  moving at the same speed on the diagonal front-right.'},\n",
       " {659: 'Under sunny conditions,on a country road, a black sedan, moving slower on the diagonal front-right; a purple SUV, gradually slowing down on the front and moved to the right; a yellow sedan, moving faster on the diagonal front-right.'},\n",
       " {693: 'Under sunny conditions, on a country road, a purple SUV, moving slower on the right;a purple SUV, moving at the same speed on the front;a yellow coupe, moving at the same speed on the diagonal front-right.'},\n",
       " {47: 'Under sunny conditions, in a city, a black coupe, moving slower on the front and then moving faster on the diagonal front-left.'},\n",
       " {56: 'Under sunny conditions, in a city, a green and white sedan, moving slower on the right;a red sedan, moving slower on the front;a purple SUV, moving slower on the diagonal front-right.'},\n",
       " {67: 'Under sunny conditions, in a city, a grey sedan, stopped first and then moving at the same speed on the front;a red sedan, stopped first and then moving slower on the left;a yellow sedan, stopped first and then moving slower on the diagonal front-left.'},\n",
       " {207: 'Under sunny conditions, on a country road, a lot of cars are moving on the right; a green suv is moving at the same speed on the front.'},\n",
       " {216: 'Under sunny conditions, on a country road, cars in the front stopped; cars kept stopping on the left; many cars are moving at the same speed on the front and on the left.'},\n",
       " {225: 'Under sunny conditions, on a country road, a black suv coming from the right fast and stopped in the front and then moving at the same speed; many cars in the front and on the left are moving at the same speed'},\n",
       " {234: 'Under sunny conditions, on a country road, apurple sedan, moving at the same speed on the diagonal front-left; then we came across a traffic light and all cars in the front stopped; after that, all cars moving at the same speed from all directions.'},\n",
       " {243: 'Under sunny conditions, on a country road, many different cars moving slower and then moving faster on the left; a yellow sedan, moving at the same speed on the front; then all cars stopped.'},\n",
       " {440: 'Under sunny conditions, on a country road, a purple SUV, moving at the same speed on the diagonal front-left;a black sedan, moving at the same speed on the front;a grey SUV, moving at the same speed on the diagonal front-right;then all cars stopped at the traffic light.'},\n",
       " {449: 'Under sunny conditions, on a country road, a red sedan, stopped on the diagonal front-left;a green and white sedan, stopped on the diagonal front-left;a gold sedan, moving slower on the diagonal front-left;a gold sedan, moving at the same speed on the front;'},\n",
       " {702: 'Under sunny conditions, on a country road, a purple SUV, moving slower on the left;a gold sedan, moving at the same speed on the front;a gold sedan, moving at the same speed on the diagonal front-left.'},\n",
       " {718: 'Under sunny conditions, on a country road, many cars rapidly approaching on the diagonal front-left.'},\n",
       " {727: 'Under sunny conditions, on a country road, two cars rapidly approaching on the diagonal front-left;a gold sedan, moving at the same speed on the front.'},\n",
       " {1188: 'Under sunny conditions, on a country road, a gold sedan,  moving slower on the diagonal front-right;a red sedan,  moving slower on the front;a purple SUV,  moving slower on the diagonal front-left;a purple sedan,  moving at the same speed on the diagonal front-right.'},\n",
       " {1197: 'Under sunny conditions, on a country road, a grey sedan,  moving slower on the diagonal front-left;a black SUV,  moving slower on the diagonal front-right;many different cars moving slower on the front, diagonal front-left and diagonal front-right.'},\n",
       " {1206: 'Under sunny conditions, on a country road, a black sedan,  moving slower on the front, we moved to the left and overtook it;a yellow sedan,  moving slower on the front,we moved to the right and overtook it;many different cars moving at the same speed on the front, diagonal front-left and diagonal front-right.'},\n",
       " {1215: 'Under sunny conditions, on a country road, a black SUV, moving slower on the front and then moving slower on the right;a red sedan, moving slower on the diagonal front-left;a pink sedan,  moving at the same speed on the front.'},\n",
       " {1313: 'Under sunny conditions, on a country road, a black sedan, moving slower on the front and then moving faster on the diagonal front-left;a red SUV, moving slower on the diagonal front-right.'},\n",
       " {1322: 'Under sunny conditions, on a country road, a gold sedan, moving slower on the left and then moving at the same speed on the diagonal front-left;a gold SUV, moving at the same speed on the front;a gold sedan, moving faster on the diagonal front-left.'},\n",
       " {1331: 'Under sunny conditions, on a country road, a red sedan, moving faster on the diagonal front-left then stopped at traffic light;a black sedan, stopped on the front at the traffic light and we were very close to it.'},\n",
       " {4805: 'Under sunny conditions, on a country road, a gold sedan, moving slower on the diagonal front-right and then moving slower on the right;a red sedan, moving slower on the diagonal front-right and then moving slower on the right;a silver sedan, moving slower on the front;a purple SUV,  moving faster on the diagonal front-left.'},\n",
       " {6273: 'Under sunny conditions, in a city, many cars are making right and left turns on the diagonal front-left;no cars in the front.'},\n",
       " {6282: 'Under sunny conditions, in a city, many cars rapidly approaching on the diagonal front-left;a red sedan, rapidly approaching on the right;a purple sedan,  moving at the same speed on the diagonal front-left and then gradually slowing down.'},\n",
       " {6291: 'Under sunny conditions, in a city, silver sedan rapidly approaching on the diagonal front-left;a black SUV, rapidly approaching on the right and then stopped in the front.'},\n",
       " {6300: 'Under sunny conditions, in a city, silver sedan rapidly approaching on the diagonal front-left;we stopped at the crossing;a red sedan, moving from left to right;a purple SUV, moving from left to right;we then turn right and a black sedan rapidly approaching on the front.'},\n",
       " {6309: 'Under sunny conditions, in a city, many cars rapidly approaching on the diagonal front-left;a silver SUV moving at the same speed on the front.'}]"
      ]
     },
     "execution_count": 282,
     "metadata": {},
     "output_type": "execute_result"
    }
   ],
   "source": [
    "Prompts"
   ]
  },
  {
   "cell_type": "code",
   "execution_count": 245,
   "id": "76ea0f4f-8733-417b-b08f-72cb64cf1d37",
   "metadata": {},
   "outputs": [
    {
     "data": {
      "text/plain": [
       "{6264: 'Under sunny conditions, in a city, many cars rapidly approaching on the diagonal front-left;a gold sedan, moving at the same speed on the front'}"
      ]
     },
     "execution_count": 245,
     "metadata": {},
     "output_type": "execute_result"
    }
   ],
   "source": [
    "\n",
    "Prompts1[24]"
   ]
  },
  {
   "cell_type": "code",
   "execution_count": null,
   "id": "916003e0-fc4d-4801-86f5-1462a0867ff1",
   "metadata": {},
   "outputs": [],
   "source": []
  }
 ],
 "metadata": {
  "kernelspec": {
   "display_name": "Python 3 (ipykernel)",
   "language": "python",
   "name": "python3"
  },
  "language_info": {
   "codemirror_mode": {
    "name": "ipython",
    "version": 3
   },
   "file_extension": ".py",
   "mimetype": "text/x-python",
   "name": "python",
   "nbconvert_exporter": "python",
   "pygments_lexer": "ipython3",
   "version": "3.11.5"
  }
 },
 "nbformat": 4,
 "nbformat_minor": 5
}
